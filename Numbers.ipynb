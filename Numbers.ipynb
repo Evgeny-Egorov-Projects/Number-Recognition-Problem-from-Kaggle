{
 "cells": [
  {
   "cell_type": "code",
   "execution_count": 1,
   "metadata": {},
   "outputs": [],
   "source": [
    "import pandas as pd\n",
    "import numpy as np\n",
    "import matplotlib.pyplot as plt\n",
    "import matplotlib.image as mpimg\n",
    "import seaborn as sns\n",
    "%matplotlib inline"
   ]
  },
  {
   "cell_type": "code",
   "execution_count": 2,
   "metadata": {},
   "outputs": [
    {
     "name": "stderr",
     "output_type": "stream",
     "text": [
      "Using TensorFlow backend.\n"
     ]
    }
   ],
   "source": [
    "from sklearn.model_selection import train_test_split, StratifiedShuffleSplit\n",
    "from sklearn.metrics import confusion_matrix\n",
    "import itertools\n",
    "\n",
    "from keras.utils.np_utils import to_categorical # convert to one-hot-encoding\n",
    "from keras.models import Sequential\n",
    "from keras.layers import Dense, Dropout, Flatten, Conv2D, MaxPool2D, BatchNormalization\n",
    "from keras.optimizers import RMSprop\n",
    "from keras.preprocessing.image import ImageDataGenerator\n",
    "from keras.callbacks import ReduceLROnPlateau"
   ]
  },
  {
   "cell_type": "code",
   "execution_count": 3,
   "metadata": {},
   "outputs": [],
   "source": [
    "#plotting confusion matrix\n",
    "def plot_confusion_matrix(cm, classes,\n",
    "                          normalize=False,\n",
    "                          title='Confusion matrix',\n",
    "                          cmap=plt.cm.Blues):\n",
    "    \"\"\"\n",
    "    This function prints and plots the confusion matrix.\n",
    "    Normalization can be applied by setting `normalize=True`.\n",
    "    \"\"\"\n",
    "    plt.imshow(cm, interpolation='nearest', cmap=cmap)\n",
    "    plt.title(title)\n",
    "    plt.colorbar()\n",
    "    tick_marks = np.arange(len(classes))\n",
    "    plt.xticks(tick_marks, classes, rotation=45)\n",
    "    plt.yticks(tick_marks, classes)\n",
    "\n",
    "    if normalize:\n",
    "        cm = cm.astype('float') / cm.sum(axis=1)[:, np.newaxis]\n",
    "\n",
    "    thresh = cm.max() / 2.\n",
    "    for i, j in itertools.product(range(cm.shape[0]), range(cm.shape[1])):\n",
    "        plt.text(j, i, cm[i, j],\n",
    "                 horizontalalignment=\"center\",\n",
    "                 color=\"white\" if cm[i, j] > thresh else \"black\")\n",
    "\n",
    "    plt.tight_layout()\n",
    "    plt.ylabel('True label')\n",
    "    plt.xlabel('Predicted label')"
   ]
  },
  {
   "cell_type": "code",
   "execution_count": 4,
   "metadata": {},
   "outputs": [
    {
     "name": "stdout",
     "output_type": "stream",
     "text": [
      "(42000, 785) (28000, 784)\n"
     ]
    }
   ],
   "source": [
    "train = pd.read_csv(\"C:/Users/Eugene/Desktop/Output/Numbers/train.csv\")\n",
    "test = pd.read_csv(\"C:/Users/Eugene/Desktop/Output/Numbers/test.csv\")\n",
    "print(train.shape, test.shape)"
   ]
  },
  {
   "cell_type": "code",
   "execution_count": 5,
   "metadata": {},
   "outputs": [
    {
     "data": {
      "text/plain": [
       "1    4684\n",
       "7    4401\n",
       "3    4351\n",
       "9    4188\n",
       "2    4177\n",
       "6    4137\n",
       "0    4132\n",
       "4    4072\n",
       "8    4063\n",
       "5    3795\n",
       "Name: label, dtype: int64"
      ]
     },
     "execution_count": 5,
     "metadata": {},
     "output_type": "execute_result"
    },
    {
     "data": {
      "image/png": "[encoded data removed]",
      "text/plain": [
       "<matplotlib.figure.Figure at 0x29ecd1aa90>"
      ]
     },
     "metadata": {},
     "output_type": "display_data"
    }
   ],
   "source": [
    "train_types_values = train[\"label\"]\n",
    "\n",
    "# Drop 'label' column\n",
    "number_images = train.drop(labels = [\"label\"],axis = 1)\n",
    "#del train \n",
    "\n",
    "g = sns.countplot(train_types_values)\n",
    "train_types_values.value_counts()"
   ]
  },
  {
   "cell_type": "code",
   "execution_count": 6,
   "metadata": {},
   "outputs": [],
   "source": [
    "#Data preparation\n",
    "number_images = (number_images/255).values.reshape(-1,28,28,1)\n",
    "test=(test/255).values.reshape(-1,28,28,1)\n",
    "train_types = to_categorical(train_types_values, num_classes = 10)"
   ]
  },
  {
   "cell_type": "code",
   "execution_count": 7,
   "metadata": {},
   "outputs": [
    {
     "name": "stdout",
     "output_type": "stream",
     "text": [
      "1\n"
     ]
    }
   ],
   "source": [
    "#Split data for cross-validation of NN parameters\n",
    "sss = StratifiedShuffleSplit(n_splits=1, test_size=0.9)\n",
    "print(sss.get_n_splits(number_images, train_types_values))\n",
    "for train_index, test_index in sss.split(number_images, train_types_values):\n",
    "    images_test, images_train = number_images[train_index], number_images[test_index]\n",
    "    answers_test, answers_train = train_types[train_index], train_types[test_index]\n",
    "\n"
   ]
  },
  {
   "cell_type": "code",
   "execution_count": 8,
   "metadata": {},
   "outputs": [
    {
     "data": {
      "text/plain": [
       "37800"
      ]
     },
     "execution_count": 8,
     "metadata": {},
     "output_type": "execute_result"
    }
   ],
   "source": [
    "images_train.shape[0]"
   ]
  },
  {
   "cell_type": "code",
   "execution_count": 9,
   "metadata": {},
   "outputs": [],
   "source": [
    "# The NN layot\n",
    "model = Sequential()\n",
    "\n",
    "model.add(Conv2D(filters = 32, kernel_size = (5,5),padding = 'Same', \n",
    "                 activation ='relu', input_shape = (28,28,1)))\n",
    "model.add(Conv2D(filters = 32, kernel_size = (3,3),padding = 'Same', \n",
    "                 activation ='relu'))\n",
    "model.add(BatchNormalization())\n",
    "model.add(MaxPool2D(pool_size=(2,2)))\n",
    "model.add(Dropout(0.25))\n",
    "\n",
    "\n",
    "model.add(Conv2D(filters = 64, kernel_size = (3,3),padding = 'Same', \n",
    "                 activation ='relu'))\n",
    "model.add(Conv2D(filters = 64, kernel_size = (3,3),padding = 'Same', \n",
    "                 activation ='relu'))\n",
    "model.add(BatchNormalization())\n",
    "model.add(MaxPool2D(pool_size=(2,2), strides=(2,2)))\n",
    "model.add(Dropout(0.25))\n",
    "\n",
    "\n",
    "model.add(Flatten())\n",
    "model.add(Dense(512, activation = \"relu\"))\n",
    "model.add(BatchNormalization())\n",
    "model.add(Dropout(0.5))\n",
    "model.add(Dense(10, activation = \"softmax\"))\n",
    "\n",
    "optimizer = RMSprop(lr=1e-3, rho=0.9, epsilon=1e-8, decay=0.0)\n",
    "#optimizer = RMSprop(lr=0.001, rho=0.9, epsilon=1e-08, decay=0.0)\n",
    "model.compile(optimizer = optimizer , loss = \"categorical_crossentropy\", \n",
    "              metrics=[\"accuracy\"])"
   ]
  },
  {
   "cell_type": "code",
   "execution_count": 29,
   "metadata": {},
   "outputs": [],
   "source": [
    "learning_rate_reduction = ReduceLROnPlateau(monitor='val_acc', patience=3, \n",
    "                                            verbose=1, factor=0.5, min_lr=1e-6)\n",
    "epochs = 1 \n",
    "batch_size = 86\n",
    "for train_index, test_index in sss.split(number_images, train_types_values):\n",
    "    images_test, images_train = number_images[train_index], number_images[test_index]\n",
    "    answers_test, answers_train = train_types[train_index], train_types[test_index]\n",
    "#    history = model.fit(images_train, answers_train, batch_size = batch_size, epochs = epochs, \n",
    "#             validation_data = (images_test, answers_test), verbose = 2)"
   ]
  },
  {
   "cell_type": "code",
   "execution_count": null,
   "metadata": {},
   "outputs": [],
   "source": [
    "epochs = 10 \n",
    "batch_size = 100\n",
    "history = model.fit(images_train, answers_train, batch_size = batch_size, epochs = epochs, \n",
    "         validation_data = (images_test, answers_test), verbose = 2, callbacks=[learning_rate_reduction])\n"
   ]
  },
  {
   "cell_type": "code",
   "execution_count": 36,
   "metadata": {},
   "outputs": [
    {
     "data": {
      "image/png": "[encoded data removed]",
      "text/plain": [
       "<matplotlib.figure.Figure at 0x6e9e92ad68>"
      ]
     },
     "metadata": {},
     "output_type": "display_data"
    }
   ],
   "source": [
    "# Plot the loss and accuracy curves for training and validation \n",
    "fig, ax = plt.subplots(2,1)\n",
    "ax[0].plot(history.history['loss'], color='b', label=\"Training loss\")\n",
    "ax[0].plot(history.history['val_loss'], color='r', label=\"validation loss\",axes =ax[0])\n",
    "legend = ax[0].legend(loc='best', shadow=True)\n",
    "\n",
    "ax[1].plot(history.history['acc'], color='b', label=\"Training accuracy\")\n",
    "ax[1].plot(history.history['val_acc'], color='r',label=\"Validation accuracy\")\n",
    "legend = ax[1].legend(loc='best', shadow=True)\n",
    "\n"
   ]
  },
  {
   "cell_type": "code",
   "execution_count": 11,
   "metadata": {},
   "outputs": [],
   "source": [
    "datagen = ImageDataGenerator(\n",
    "        featurewise_center=False,  # set input mean to 0 over the dataset\n",
    "        samplewise_center=False,  # set each sample mean to 0\n",
    "        featurewise_std_normalization=False,  # divide inputs by std of the dataset\n",
    "        samplewise_std_normalization=False,  # divide each input by its std\n",
    "        zca_whitening=False,  # apply ZCA whitening\n",
    "        rotation_range=15,  # randomly rotate images in the range (degrees, 0 to 180)\n",
    "        zoom_range = 0.1, # Randomly zoom image \n",
    "        width_shift_range=0.1,  # randomly shift images horizontally (fraction of total width)\n",
    "        height_shift_range=0.1,  # randomly shift images vertically (fraction of total height)\n",
    "        horizontal_flip=False,  # randomly flip images\n",
    "        vertical_flip=False)  # randomly flip images\n",
    "\n",
    "\n",
    "datagen.fit(images_train)"
   ]
  },
  {
   "cell_type": "code",
   "execution_count": 12,
   "metadata": {},
   "outputs": [
    {
     "name": "stdout",
     "output_type": "stream",
     "text": [
      "37800\n",
      "Epoch 1/50\n",
      " - 368s - loss: 0.3978 - acc: 0.8770 - val_loss: 0.2336 - val_acc: 0.9390\n",
      "Epoch 2/50\n",
      " - 403s - loss: 0.1236 - acc: 0.9610 - val_loss: 0.0462 - val_acc: 0.9852\n",
      "Epoch 3/50\n",
      " - 411s - loss: 0.0889 - acc: 0.9722 - val_loss: 0.0829 - val_acc: 0.9793\n",
      "Epoch 4/50\n",
      " - 370s - loss: 0.0762 - acc: 0.9765 - val_loss: 0.0705 - val_acc: 0.9779\n",
      "Epoch 5/50\n",
      " - 386s - loss: 0.0668 - acc: 0.9804 - val_loss: 0.0344 - val_acc: 0.9888\n",
      "Epoch 6/50\n",
      " - 411s - loss: 0.0593 - acc: 0.9820 - val_loss: 0.0352 - val_acc: 0.9893\n",
      "Epoch 7/50\n",
      " - 404s - loss: 0.0569 - acc: 0.9829 - val_loss: 0.0341 - val_acc: 0.9905\n",
      "Epoch 8/50\n",
      " - 401s - loss: 0.0525 - acc: 0.9835 - val_loss: 0.0292 - val_acc: 0.9912\n",
      "Epoch 9/50\n",
      " - 412s - loss: 0.0464 - acc: 0.9862 - val_loss: 0.0256 - val_acc: 0.9926\n",
      "Epoch 10/50\n",
      " - 402s - loss: 0.0472 - acc: 0.9850 - val_loss: 0.0589 - val_acc: 0.9829\n",
      "Epoch 11/50\n",
      " - 391s - loss: 0.0440 - acc: 0.9866 - val_loss: 0.0281 - val_acc: 0.9924\n",
      "Epoch 12/50\n",
      " - 301s - loss: 0.0429 - acc: 0.9872 - val_loss: 0.0271 - val_acc: 0.9921\n",
      "\n",
      "Epoch 00012: ReduceLROnPlateau reducing learning rate to 0.000800000037997961.\n",
      "Epoch 13/50\n",
      " - 303s - loss: 0.0393 - acc: 0.9884 - val_loss: 0.0377 - val_acc: 0.9907\n",
      "Epoch 14/50\n",
      " - 294s - loss: 0.0373 - acc: 0.9893 - val_loss: 0.0275 - val_acc: 0.9914\n",
      "\n",
      "Epoch 00014: ReduceLROnPlateau reducing learning rate to 0.0006400000303983689.\n",
      "Epoch 15/50\n",
      " - 302s - loss: 0.0328 - acc: 0.9901 - val_loss: 0.0209 - val_acc: 0.9952\n",
      "Epoch 16/50\n",
      " - 295s - loss: 0.0336 - acc: 0.9899 - val_loss: 0.0197 - val_acc: 0.9955\n",
      "Epoch 17/50\n",
      " - 314s - loss: 0.0323 - acc: 0.9906 - val_loss: 0.0187 - val_acc: 0.9950\n",
      "Epoch 18/50\n",
      " - 313s - loss: 0.0314 - acc: 0.9904 - val_loss: 0.0222 - val_acc: 0.9945\n",
      "Epoch 19/50\n",
      " - 309s - loss: 0.0280 - acc: 0.9921 - val_loss: 0.0197 - val_acc: 0.9950\n",
      "\n",
      "Epoch 00019: ReduceLROnPlateau reducing learning rate to 0.0005120000336319208.\n",
      "Epoch 20/50\n",
      " - 301s - loss: 0.0296 - acc: 0.9907 - val_loss: 0.0220 - val_acc: 0.9945\n",
      "Epoch 21/50\n",
      " - 293s - loss: 0.0271 - acc: 0.9919 - val_loss: 0.0206 - val_acc: 0.9945\n",
      "\n",
      "Epoch 00021: ReduceLROnPlateau reducing learning rate to 0.00040960004553198815.\n",
      "Epoch 22/50\n",
      " - 304s - loss: 0.0291 - acc: 0.9914 - val_loss: 0.0184 - val_acc: 0.9957\n",
      "Epoch 23/50\n",
      " - 291s - loss: 0.0245 - acc: 0.9930 - val_loss: 0.0280 - val_acc: 0.9933\n",
      "Epoch 24/50\n",
      " - 291s - loss: 0.0250 - acc: 0.9923 - val_loss: 0.0174 - val_acc: 0.9950\n",
      "Epoch 25/50\n",
      " - 325s - loss: 0.0240 - acc: 0.9926 - val_loss: 0.0178 - val_acc: 0.9945\n",
      "\n",
      "Epoch 00025: ReduceLROnPlateau reducing learning rate to 0.00032768002711236477.\n",
      "Epoch 26/50\n",
      " - 300s - loss: 0.0219 - acc: 0.9937 - val_loss: 0.0209 - val_acc: 0.9945\n",
      "Epoch 27/50\n",
      " - 306s - loss: 0.0220 - acc: 0.9934 - val_loss: 0.0174 - val_acc: 0.9957\n",
      "\n",
      "Epoch 00027: ReduceLROnPlateau reducing learning rate to 0.0002621440216898918.\n",
      "Epoch 28/50\n",
      " - 307s - loss: 0.0213 - acc: 0.9932 - val_loss: 0.0193 - val_acc: 0.9957\n",
      "Epoch 29/50\n",
      " - 282s - loss: 0.0232 - acc: 0.9929 - val_loss: 0.0179 - val_acc: 0.9952\n",
      "\n",
      "Epoch 00029: ReduceLROnPlateau reducing learning rate to 0.00020971521735191345.\n",
      "Epoch 30/50\n",
      " - 310s - loss: 0.0187 - acc: 0.9942 - val_loss: 0.0179 - val_acc: 0.9957\n",
      "Epoch 31/50\n",
      " - 293s - loss: 0.0195 - acc: 0.9938 - val_loss: 0.0172 - val_acc: 0.9957\n",
      "\n",
      "Epoch 00031: ReduceLROnPlateau reducing learning rate to 0.00016777217388153076.\n",
      "Epoch 32/50\n",
      " - 301s - loss: 0.0197 - acc: 0.9940 - val_loss: 0.0178 - val_acc: 0.9957\n",
      "Epoch 33/50\n",
      " - 293s - loss: 0.0202 - acc: 0.9941 - val_loss: 0.0169 - val_acc: 0.9964\n",
      "Epoch 34/50\n",
      " - 289s - loss: 0.0202 - acc: 0.9941 - val_loss: 0.0186 - val_acc: 0.9960\n",
      "Epoch 35/50\n",
      " - 309s - loss: 0.0199 - acc: 0.9940 - val_loss: 0.0168 - val_acc: 0.9962\n",
      "Epoch 36/50\n",
      " - 310s - loss: 0.0168 - acc: 0.9947 - val_loss: 0.0175 - val_acc: 0.9957\n",
      "\n",
      "Epoch 00036: ReduceLROnPlateau reducing learning rate to 0.00013421773910522462.\n",
      "Epoch 37/50\n",
      " - 303s - loss: 0.0183 - acc: 0.9940 - val_loss: 0.0175 - val_acc: 0.9952\n",
      "Epoch 38/50\n",
      " - 313s - loss: 0.0172 - acc: 0.9949 - val_loss: 0.0171 - val_acc: 0.9962\n",
      "\n",
      "Epoch 00038: ReduceLROnPlateau reducing learning rate to 0.00010737419361248613.\n",
      "Epoch 39/50\n",
      " - 288s - loss: 0.0175 - acc: 0.9948 - val_loss: 0.0171 - val_acc: 0.9957\n",
      "Epoch 40/50\n",
      " - 321s - loss: 0.0169 - acc: 0.9944 - val_loss: 0.0173 - val_acc: 0.9952\n",
      "\n",
      "Epoch 00040: ReduceLROnPlateau reducing learning rate to 8.589935605414213e-05.\n",
      "Epoch 41/50\n",
      " - 323s - loss: 0.0165 - acc: 0.9949 - val_loss: 0.0169 - val_acc: 0.9955\n",
      "Epoch 42/50\n",
      " - 342s - loss: 0.0178 - acc: 0.9947 - val_loss: 0.0165 - val_acc: 0.9960\n",
      "\n",
      "Epoch 00042: ReduceLROnPlateau reducing learning rate to 6.871948717162013e-05.\n",
      "Epoch 43/50\n",
      " - 322s - loss: 0.0168 - acc: 0.9947 - val_loss: 0.0166 - val_acc: 0.9960\n",
      "Epoch 44/50\n",
      " - 337s - loss: 0.0165 - acc: 0.9951 - val_loss: 0.0165 - val_acc: 0.9962\n",
      "\n",
      "Epoch 00044: ReduceLROnPlateau reducing learning rate to 5.497558740898967e-05.\n",
      "Epoch 45/50\n",
      " - 335s - loss: 0.0160 - acc: 0.9952 - val_loss: 0.0177 - val_acc: 0.9952\n",
      "Epoch 46/50\n",
      " - 330s - loss: 0.0181 - acc: 0.9946 - val_loss: 0.0176 - val_acc: 0.9962\n",
      "\n",
      "Epoch 00046: ReduceLROnPlateau reducing learning rate to 4.398046876303852e-05.\n",
      "Epoch 47/50\n",
      " - 322s - loss: 0.0154 - acc: 0.9955 - val_loss: 0.0179 - val_acc: 0.9962\n",
      "Epoch 48/50\n",
      " - 339s - loss: 0.0164 - acc: 0.9949 - val_loss: 0.0176 - val_acc: 0.9955\n",
      "\n",
      "Epoch 00048: ReduceLROnPlateau reducing learning rate to 3.518437442835421e-05.\n",
      "Epoch 49/50\n",
      " - 321s - loss: 0.0152 - acc: 0.9950 - val_loss: 0.0174 - val_acc: 0.9962\n",
      "Epoch 50/50\n",
      " - 312s - loss: 0.0172 - acc: 0.9948 - val_loss: 0.0175 - val_acc: 0.9964\n",
      "\n",
      "Epoch 00050: ReduceLROnPlateau reducing learning rate to 2.8147498960606756e-05.\n"
     ]
    }
   ],
   "source": [
    "learning_rate_reduction = ReduceLROnPlateau(monitor='val_acc', patience=2, \n",
    "                                            verbose=1, factor=0.5, min_lr=1e-8)\n",
    "epochs = 50\n",
    "batch_size = 189\n",
    "steps=images_train.shape[0]\n",
    "print(steps)\n",
    "# Fit the model\n",
    "history = model.fit_generator(datagen.flow(images_train,answers_train, batch_size=batch_size),\n",
    "                              epochs = epochs, validation_data = (images_test,answers_test),\n",
    "                              verbose = 2, steps_per_epoch=images_train.shape[0]// batch_size\n",
    "                               , callbacks=[learning_rate_reduction])\n",
    "\n"
   ]
  },
  {
   "cell_type": "code",
   "execution_count": 13,
   "metadata": {},
   "outputs": [
    {
     "data": {
      "image/png": "[encoded data removed]",
      "text/plain": [
       "<matplotlib.figure.Figure at 0x2999956550>"
      ]
     },
     "metadata": {},
     "output_type": "display_data"
    }
   ],
   "source": [
    "# Predict the values from the validation dataset\n",
    "answers_prediction = model.predict(images_test)\n",
    "# Convert predictions classes to one hot vectors \n",
    "answers_pred_classes = np.argmax(answers_prediction, axis = 1) \n",
    "# Convert validation observations to one hot vectors\n",
    "answers_true = np.argmax(answers_test, axis = 1) \n",
    "# compute the confusion matrix\n",
    "confusion_mtx = confusion_matrix(answers_true, answers_pred_classes) \n",
    "# plot the confusion matrix\n",
    "plot_confusion_matrix(confusion_mtx, classes = range(10)) "
   ]
  },
  {
   "cell_type": "code",
   "execution_count": 14,
   "metadata": {},
   "outputs": [
    {
     "data": {
      "image/png": "[encoded data removed]",
      "text/plain": [
       "<matplotlib.figure.Figure at 0x29956d9a20>"
      ]
     },
     "metadata": {},
     "output_type": "display_data"
    }
   ],
   "source": [
    "# Predict the values from the validation dataset\n",
    "answers_prediction = model.predict(images_test)\n",
    "# Convert predictions classes to one hot vectors \n",
    "answers_pred_classes = np.argmax(answers_prediction, axis = 1) \n",
    "# Convert validation observations to one hot vectors\n",
    "answers_true = np.argmax(answers_test, axis = 1) \n",
    "# compute the confusion matrix\n",
    "confusion_mtx = confusion_matrix(answers_true, answers_pred_classes) \n",
    "# plot the confusion matrix\n",
    "plot_confusion_matrix(confusion_mtx, classes = range(10)) "
   ]
  },
  {
   "cell_type": "code",
   "execution_count": 15,
   "metadata": {},
   "outputs": [],
   "source": [
    "# predict results\n",
    "\n",
    "results = model.predict(test)\n",
    "\n",
    "# select the indix with the maximum probability\n",
    "results = np.argmax(results,axis = 1)\n",
    "results = pd.Series(results,name=\"Label\")\n",
    "submission = pd.concat([pd.Series(range(1,28001),name = \"ImageId\"),results],axis = 1)\n",
    "submission.to_csv(\"numbers_output.csv\",index=False)\n",
    "\n"
   ]
  },
  {
   "cell_type": "code",
   "execution_count": 16,
   "metadata": {},
   "outputs": [],
   "source": [
    "#Saving a particularly sucessfull model I like:\n",
    "model.save('Num_recognition_99614.h5')"
   ]
  },
  {
   "cell_type": "code",
   "execution_count": null,
   "metadata": {},
   "outputs": [],
   "source": []
  }
 ],
 "metadata": {
  "kernelspec": {
   "display_name": "Python 3",
   "language": "python",
   "name": "python3"
  },
  "language_info": {
   "codemirror_mode": {
    "name": "ipython",
    "version": 3
   },
   "file_extension": ".py",
   "mimetype": "text/x-python",
   "name": "python",
   "nbconvert_exporter": "python",
   "pygments_lexer": "ipython3",
   "version": "3.5.5"
  }
 },
 "nbformat": 4,
 "nbformat_minor": 2
}
